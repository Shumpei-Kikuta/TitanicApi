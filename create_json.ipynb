{
 "cells": [
  {
   "cell_type": "code",
   "execution_count": 7,
   "metadata": {
    "collapsed": true
   },
   "outputs": [],
   "source": [
    "import pandas as pd\n",
    "import numpy as np\n",
    "import json"
   ]
  },
  {
   "cell_type": "code",
   "execution_count": 24,
   "metadata": {
    "collapsed": true
   },
   "outputs": [],
   "source": [
    "test = pd.read_csv(\"data/test.csv\").head()\n",
    "test = test.astype(\"object\")"
   ]
  },
  {
   "cell_type": "code",
   "execution_count": 25,
   "metadata": {},
   "outputs": [],
   "source": [
    "test_dict = test.to_dict()"
   ]
  },
  {
   "cell_type": "code",
   "execution_count": 26,
   "metadata": {},
   "outputs": [
    {
     "data": {
      "text/plain": [
       "{'Age': {0: 34.5, 1: 47.0, 2: 62.0, 3: 27.0, 4: 22.0},\n",
       " 'Cabin': {0: nan, 1: nan, 2: nan, 3: nan, 4: nan},\n",
       " 'Embarked': {0: 'Q', 1: 'S', 2: 'Q', 3: 'S', 4: 'S'},\n",
       " 'Fare': {0: 7.8292, 1: 7.0, 2: 9.6875, 3: 8.6625, 4: 12.2875},\n",
       " 'Name': {0: 'Kelly, Mr. James',\n",
       "  1: 'Wilkes, Mrs. James (Ellen Needs)',\n",
       "  2: 'Myles, Mr. Thomas Francis',\n",
       "  3: 'Wirz, Mr. Albert',\n",
       "  4: 'Hirvonen, Mrs. Alexander (Helga E Lindqvist)'},\n",
       " 'Parch': {0: 0, 1: 0, 2: 0, 3: 0, 4: 1},\n",
       " 'PassengerId': {0: 892, 1: 893, 2: 894, 3: 895, 4: 896},\n",
       " 'Pclass': {0: 3, 1: 3, 2: 2, 3: 3, 4: 3},\n",
       " 'Sex': {0: 'male', 1: 'female', 2: 'male', 3: 'male', 4: 'female'},\n",
       " 'SibSp': {0: 0, 1: 1, 2: 0, 3: 0, 4: 1},\n",
       " 'Ticket': {0: '330911', 1: '363272', 2: '240276', 3: '315154', 4: '3101298'}}"
      ]
     },
     "execution_count": 26,
     "metadata": {},
     "output_type": "execute_result"
    }
   ],
   "source": [
    "test_dict"
   ]
  },
  {
   "cell_type": "code",
   "execution_count": 27,
   "metadata": {},
   "outputs": [],
   "source": [
    "def stringify_keys(d):\n",
    "    \"\"\"Convert a dict's keys to strings if they are not.\"\"\"\n",
    "    for key in d.keys():\n",
    "\n",
    "        # check inner dict\n",
    "        if isinstance(d[key], dict):\n",
    "            value = stringify_keys(d[key])\n",
    "        else:\n",
    "            value = d[key]\n",
    "\n",
    "        # convert nonstring to string if needed\n",
    "        if not isinstance(key, str):\n",
    "            try:\n",
    "                d[str(key)] = value\n",
    "            except Exception:\n",
    "                try:\n",
    "                    d[repr(key)] = value\n",
    "                except Exception:\n",
    "                    raise\n",
    "\n",
    "            # delete old key\n",
    "            del d[key]\n",
    "            \n",
    "    \n",
    "    return d"
   ]
  },
  {
   "cell_type": "code",
   "execution_count": 28,
   "metadata": {
    "collapsed": true
   },
   "outputs": [],
   "source": [
    "test_dict = stringify_keys(test_dict)"
   ]
  },
  {
   "cell_type": "code",
   "execution_count": 29,
   "metadata": {},
   "outputs": [
    {
     "data": {
      "text/plain": [
       "{'Age': {'0': 34.5, '1': 47.0, '2': 62.0, '3': 27.0, '4': 22.0},\n",
       " 'Cabin': {'0': nan, '1': nan, '2': nan, '3': nan, '4': nan},\n",
       " 'Embarked': {'0': 'Q', '1': 'S', '2': 'Q', '3': 'S', '4': 'S'},\n",
       " 'Fare': {'0': 7.8292, '1': 7.0, '2': 9.6875, '3': 8.6625, '4': 12.2875},\n",
       " 'Name': {'0': 'Kelly, Mr. James',\n",
       "  '1': 'Wilkes, Mrs. James (Ellen Needs)',\n",
       "  '2': 'Myles, Mr. Thomas Francis',\n",
       "  '3': 'Wirz, Mr. Albert',\n",
       "  '4': 'Hirvonen, Mrs. Alexander (Helga E Lindqvist)'},\n",
       " 'Parch': {'0': 0, '1': 0, '2': 0, '3': 0, '4': 1},\n",
       " 'PassengerId': {'0': 892, '1': 893, '2': 894, '3': 895, '4': 896},\n",
       " 'Pclass': {'0': 3, '1': 3, '2': 2, '3': 3, '4': 3},\n",
       " 'Sex': {'0': 'male', '1': 'female', '2': 'male', '3': 'male', '4': 'female'},\n",
       " 'SibSp': {'0': 0, '1': 1, '2': 0, '3': 0, '4': 1},\n",
       " 'Ticket': {'0': '330911',\n",
       "  '1': '363272',\n",
       "  '2': '240276',\n",
       "  '3': '315154',\n",
       "  '4': '3101298'}}"
      ]
     },
     "execution_count": 29,
     "metadata": {},
     "output_type": "execute_result"
    }
   ],
   "source": [
    "test_dict"
   ]
  },
  {
   "cell_type": "code",
   "execution_count": 33,
   "metadata": {},
   "outputs": [
    {
     "ename": "TypeError",
     "evalue": "a bytes-like object is required, not 'str'",
     "output_type": "error",
     "traceback": [
      "\u001b[0;31m---------------------------------------------------------------------------\u001b[0m",
      "\u001b[0;31mTypeError\u001b[0m                                 Traceback (most recent call last)",
      "\u001b[0;32m<ipython-input-33-b4340c86fcd4>\u001b[0m in \u001b[0;36m<module>\u001b[0;34m()\u001b[0m\n\u001b[1;32m      1\u001b[0m \u001b[0;32mwith\u001b[0m \u001b[0mopen\u001b[0m\u001b[0;34m(\u001b[0m\u001b[0;34m\"test.json\"\u001b[0m\u001b[0;34m,\u001b[0m \u001b[0;34m\"wb\"\u001b[0m\u001b[0;34m)\u001b[0m \u001b[0;32mas\u001b[0m \u001b[0mf\u001b[0m\u001b[0;34m:\u001b[0m\u001b[0;34m\u001b[0m\u001b[0m\n\u001b[0;32m----> 2\u001b[0;31m     \u001b[0mjson\u001b[0m\u001b[0;34m.\u001b[0m\u001b[0mdump\u001b[0m\u001b[0;34m(\u001b[0m\u001b[0mtest_dict\u001b[0m\u001b[0;34m,\u001b[0m \u001b[0mf\u001b[0m\u001b[0;34m)\u001b[0m\u001b[0;34m\u001b[0m\u001b[0m\n\u001b[0m",
      "\u001b[0;32m~/.pyenv/versions/anaconda3-5.0.1/lib/python3.6/json/__init__.py\u001b[0m in \u001b[0;36mdump\u001b[0;34m(obj, fp, skipkeys, ensure_ascii, check_circular, allow_nan, cls, indent, separators, default, sort_keys, **kw)\u001b[0m\n\u001b[1;32m    178\u001b[0m     \u001b[0;31m# a debuggability cost\u001b[0m\u001b[0;34m\u001b[0m\u001b[0;34m\u001b[0m\u001b[0m\n\u001b[1;32m    179\u001b[0m     \u001b[0;32mfor\u001b[0m \u001b[0mchunk\u001b[0m \u001b[0;32min\u001b[0m \u001b[0miterable\u001b[0m\u001b[0;34m:\u001b[0m\u001b[0;34m\u001b[0m\u001b[0m\n\u001b[0;32m--> 180\u001b[0;31m         \u001b[0mfp\u001b[0m\u001b[0;34m.\u001b[0m\u001b[0mwrite\u001b[0m\u001b[0;34m(\u001b[0m\u001b[0mchunk\u001b[0m\u001b[0;34m)\u001b[0m\u001b[0;34m\u001b[0m\u001b[0m\n\u001b[0m\u001b[1;32m    181\u001b[0m \u001b[0;34m\u001b[0m\u001b[0m\n\u001b[1;32m    182\u001b[0m \u001b[0;34m\u001b[0m\u001b[0m\n",
      "\u001b[0;31mTypeError\u001b[0m: a bytes-like object is required, not 'str'"
     ]
    }
   ],
   "source": [
    "with open(\"test.json\", \"wb\") as f:\n",
    "    json.dump(test_dict, f)"
   ]
  },
  {
   "cell_type": "code",
   "execution_count": null,
   "metadata": {
    "collapsed": true
   },
   "outputs": [],
   "source": []
  }
 ],
 "metadata": {
  "kernelspec": {
   "display_name": "Python 3",
   "language": "python",
   "name": "python3"
  },
  "language_info": {
   "codemirror_mode": {
    "name": "ipython",
    "version": 3
   },
   "file_extension": ".py",
   "mimetype": "text/x-python",
   "name": "python",
   "nbconvert_exporter": "python",
   "pygments_lexer": "ipython3",
   "version": "3.6.3"
  }
 },
 "nbformat": 4,
 "nbformat_minor": 2
}
