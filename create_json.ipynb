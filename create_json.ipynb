{
 "cells": [
  {
   "cell_type": "code",
   "execution_count": 15,
   "metadata": {
    "collapsed": true
   },
   "outputs": [],
   "source": [
    "import pandas as pd\n",
    "import numpy as np\n",
    "import json"
   ]
  },
  {
   "cell_type": "code",
   "execution_count": 16,
   "metadata": {
    "collapsed": true
   },
   "outputs": [],
   "source": [
    "test = pd.read_csv(\"data/test.csv\")\n",
    "test = test.astype(\"object\")"
   ]
  },
  {
   "cell_type": "code",
   "execution_count": 17,
   "metadata": {},
   "outputs": [],
   "source": [
    "test = test.iloc[[26, 44]]"
   ]
  },
  {
   "cell_type": "code",
   "execution_count": 18,
   "metadata": {
    "collapsed": true
   },
   "outputs": [],
   "source": [
    "test_dict = test.to_dict()"
   ]
  },
  {
   "cell_type": "code",
   "execution_count": 19,
   "metadata": {},
   "outputs": [
    {
     "data": {
      "text/plain": [
       "{'Age': {26: 22.0, 44: 45.0},\n",
       " 'Cabin': {26: 'B36', 44: 'D19'},\n",
       " 'Embarked': {26: 'C', 44: 'S'},\n",
       " 'Fare': {26: 61.9792, 44: 52.5542},\n",
       " 'Name': {26: 'Ostby, Miss. Helene Ragnhild',\n",
       "  44: 'Kimball, Mrs. Edwin Nelson Jr (Gertrude Parsons)'},\n",
       " 'Parch': {26: 1, 44: 0},\n",
       " 'PassengerId': {26: 918, 44: 936},\n",
       " 'Pclass': {26: 1, 44: 1},\n",
       " 'Sex': {26: 'female', 44: 'female'},\n",
       " 'SibSp': {26: 0, 44: 1},\n",
       " 'Ticket': {26: '113509', 44: '11753'}}"
      ]
     },
     "execution_count": 19,
     "metadata": {},
     "output_type": "execute_result"
    }
   ],
   "source": [
    "test_dict"
   ]
  },
  {
   "cell_type": "code",
   "execution_count": 20,
   "metadata": {
    "collapsed": true
   },
   "outputs": [],
   "source": [
    "def stringify_keys(d):\n",
    "    \"\"\"Convert a dict's keys to strings if they are not.\"\"\"\n",
    "    for key in d.keys():\n",
    "\n",
    "        # check inner dict\n",
    "        if isinstance(d[key], dict):\n",
    "            value = stringify_keys(d[key])\n",
    "        else:\n",
    "            value = d[key]\n",
    "\n",
    "        # convert nonstring to string if needed\n",
    "        if not isinstance(key, str):\n",
    "            try:\n",
    "                d[str(key)] = value\n",
    "            except Exception:\n",
    "                try:\n",
    "                    d[repr(key)] = value\n",
    "                except Exception:\n",
    "                    raise\n",
    "\n",
    "            # delete old key\n",
    "            del d[key]\n",
    "            \n",
    "    \n",
    "    return d"
   ]
  },
  {
   "cell_type": "code",
   "execution_count": 21,
   "metadata": {
    "collapsed": true
   },
   "outputs": [],
   "source": [
    "test_dict = stringify_keys(test_dict)"
   ]
  },
  {
   "cell_type": "code",
   "execution_count": 22,
   "metadata": {},
   "outputs": [
    {
     "data": {
      "text/plain": [
       "{'Age': {'26': 22.0, '44': 45.0},\n",
       " 'Cabin': {'26': 'B36', '44': 'D19'},\n",
       " 'Embarked': {'26': 'C', '44': 'S'},\n",
       " 'Fare': {'26': 61.9792, '44': 52.5542},\n",
       " 'Name': {'26': 'Ostby, Miss. Helene Ragnhild',\n",
       "  '44': 'Kimball, Mrs. Edwin Nelson Jr (Gertrude Parsons)'},\n",
       " 'Parch': {'26': 1, '44': 0},\n",
       " 'PassengerId': {'26': 918, '44': 936},\n",
       " 'Pclass': {'26': 1, '44': 1},\n",
       " 'Sex': {'26': 'female', '44': 'female'},\n",
       " 'SibSp': {'26': 0, '44': 1},\n",
       " 'Ticket': {'26': '113509', '44': '11753'}}"
      ]
     },
     "execution_count": 22,
     "metadata": {},
     "output_type": "execute_result"
    }
   ],
   "source": [
    "test_dict"
   ]
  },
  {
   "cell_type": "code",
   "execution_count": 23,
   "metadata": {
    "collapsed": true
   },
   "outputs": [],
   "source": [
    "with open(\"test.json\", \"w\") as f:\n",
    "    json.dump(test_dict, f)"
   ]
  },
  {
   "cell_type": "code",
   "execution_count": 25,
   "metadata": {
    "collapsed": true
   },
   "outputs": [],
   "source": [
    "with open(\"test.json\", \"r\") as f:\n",
    "    read_test = json.load(f)"
   ]
  },
  {
   "cell_type": "code",
   "execution_count": 27,
   "metadata": {},
   "outputs": [
    {
     "data": {
      "text/plain": [
       "dict"
      ]
     },
     "execution_count": 27,
     "metadata": {},
     "output_type": "execute_result"
    }
   ],
   "source": [
    "type(read_test)"
   ]
  },
  {
   "cell_type": "code",
   "execution_count": null,
   "metadata": {
    "collapsed": true
   },
   "outputs": [],
   "source": []
  }
 ],
 "metadata": {
  "kernelspec": {
   "display_name": "Python 3",
   "language": "python",
   "name": "python3"
  },
  "language_info": {
   "codemirror_mode": {
    "name": "ipython",
    "version": 3
   },
   "file_extension": ".py",
   "mimetype": "text/x-python",
   "name": "python",
   "nbconvert_exporter": "python",
   "pygments_lexer": "ipython3",
   "version": "3.6.3"
  }
 },
 "nbformat": 4,
 "nbformat_minor": 2
}
